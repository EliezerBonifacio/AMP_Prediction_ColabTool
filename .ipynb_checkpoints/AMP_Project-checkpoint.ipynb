{
 "cells": [
  {
   "cell_type": "code",
   "execution_count": 6,
   "id": "d986fb47",
   "metadata": {},
   "outputs": [
    {
     "name": "stdout",
     "output_type": "stream",
     "text": [
      "END\n"
     ]
    }
   ],
   "source": [
    "from ScriptCalculoDeDescriptores import CalcularDescriptores\n",
    "print(\"END\")"
   ]
  },
  {
   "cell_type": "code",
   "execution_count": 9,
   "id": "5d469c31",
   "metadata": {},
   "outputs": [
    {
     "name": "stdout",
     "output_type": "stream",
     "text": [
      "Calculando descripptores de frecuencia de aminoacidos ...\n",
      "Calculando descripptores globales de los peptidos ...\n",
      "Calculando descripptores peptidicos ...\n",
      "Numero de calculos :  316\n",
      "Ventana:1, Modalidad: mean [========================================] 158/158 [100%] in 1.1s (145.75/s) \n",
      "1.0869340896606445\n",
      "Calculando descripptores de Kmers de aa de los peptidos ...\n",
      "Tiempo de calculo:  1.1053681373596191\n"
     ]
    }
   ],
   "source": [
    "DataDescriptors = CalcularDescriptores([\"GLMLMLK\", \"QRTPLI\"] , ventana=[1], modalidades=['mean'])"
   ]
  },
  {
   "cell_type": "code",
   "execution_count": 11,
   "id": "6492bc7e",
   "metadata": {},
   "outputs": [
    {
     "data": {
      "text/html": [
       "<div>\n",
       "<style scoped>\n",
       "    .dataframe tbody tr th:only-of-type {\n",
       "        vertical-align: middle;\n",
       "    }\n",
       "\n",
       "    .dataframe tbody tr th {\n",
       "        vertical-align: top;\n",
       "    }\n",
       "\n",
       "    .dataframe thead th {\n",
       "        text-align: right;\n",
       "    }\n",
       "</style>\n",
       "<table border=\"1\" class=\"dataframe\">\n",
       "  <thead>\n",
       "    <tr style=\"text-align: right;\">\n",
       "      <th></th>\n",
       "      <th>Y</th>\n",
       "      <th>V</th>\n",
       "      <th>W</th>\n",
       "      <th>T</th>\n",
       "      <th>R</th>\n",
       "      <th>S</th>\n",
       "      <th>P</th>\n",
       "      <th>Q</th>\n",
       "      <th>N</th>\n",
       "      <th>L</th>\n",
       "      <th>...</th>\n",
       "      <th>TPGC</th>\n",
       "      <th>IK</th>\n",
       "      <th>IA</th>\n",
       "      <th>IG</th>\n",
       "      <th>YGG</th>\n",
       "      <th>LGK</th>\n",
       "      <th>CSCK</th>\n",
       "      <th>GYGG</th>\n",
       "      <th>LGG</th>\n",
       "      <th>KGA</th>\n",
       "    </tr>\n",
       "  </thead>\n",
       "  <tbody>\n",
       "    <tr>\n",
       "      <th>GLMLMLK</th>\n",
       "      <td>0.0</td>\n",
       "      <td>0.0</td>\n",
       "      <td>0.0</td>\n",
       "      <td>0.0</td>\n",
       "      <td>0.0</td>\n",
       "      <td>0.0</td>\n",
       "      <td>0.0</td>\n",
       "      <td>0.0</td>\n",
       "      <td>0.0</td>\n",
       "      <td>2.0</td>\n",
       "      <td>...</td>\n",
       "      <td>0</td>\n",
       "      <td>0</td>\n",
       "      <td>0</td>\n",
       "      <td>0</td>\n",
       "      <td>0</td>\n",
       "      <td>0</td>\n",
       "      <td>0</td>\n",
       "      <td>0</td>\n",
       "      <td>0</td>\n",
       "      <td>0</td>\n",
       "    </tr>\n",
       "    <tr>\n",
       "      <th>QRTPLI</th>\n",
       "      <td>0.0</td>\n",
       "      <td>0.0</td>\n",
       "      <td>0.0</td>\n",
       "      <td>1.0</td>\n",
       "      <td>0.0</td>\n",
       "      <td>1.0</td>\n",
       "      <td>1.0</td>\n",
       "      <td>1.0</td>\n",
       "      <td>0.0</td>\n",
       "      <td>0.0</td>\n",
       "      <td>...</td>\n",
       "      <td>0</td>\n",
       "      <td>0</td>\n",
       "      <td>0</td>\n",
       "      <td>0</td>\n",
       "      <td>0</td>\n",
       "      <td>0</td>\n",
       "      <td>0</td>\n",
       "      <td>0</td>\n",
       "      <td>0</td>\n",
       "      <td>0</td>\n",
       "    </tr>\n",
       "  </tbody>\n",
       "</table>\n",
       "<p>2 rows × 318 columns</p>\n",
       "</div>"
      ],
      "text/plain": [
       "           Y    V    W    T    R    S    P    Q    N    L  ...  TPGC  IK  IA  \\\n",
       "GLMLMLK  0.0  0.0  0.0  0.0  0.0  0.0  0.0  0.0  0.0  2.0  ...     0   0   0   \n",
       "QRTPLI   0.0  0.0  0.0  1.0  0.0  1.0  1.0  1.0  0.0  0.0  ...     0   0   0   \n",
       "\n",
       "         IG  YGG  LGK  CSCK  GYGG  LGG  KGA  \n",
       "GLMLMLK   0    0    0     0     0    0    0  \n",
       "QRTPLI    0    0    0     0     0    0    0  \n",
       "\n",
       "[2 rows x 318 columns]"
      ]
     },
     "execution_count": 11,
     "metadata": {},
     "output_type": "execute_result"
    }
   ],
   "source": [
    "DataDescriptors"
   ]
  },
  {
   "cell_type": "code",
   "execution_count": 14,
   "id": "dbe077d8",
   "metadata": {},
   "outputs": [],
   "source": [
    "from PrediccionDeNuevosPeptidos import GenerateDescriptors, GenerateClasificationPrediction"
   ]
  },
  {
   "cell_type": "code",
   "execution_count": 19,
   "id": "37b51e07",
   "metadata": {},
   "outputs": [],
   "source": [
    "import pandas as pd"
   ]
  },
  {
   "cell_type": "code",
   "execution_count": 20,
   "id": "83dc2b22",
   "metadata": {},
   "outputs": [
    {
     "data": {
      "text/html": [
       "<div>\n",
       "<style scoped>\n",
       "    .dataframe tbody tr th:only-of-type {\n",
       "        vertical-align: middle;\n",
       "    }\n",
       "\n",
       "    .dataframe tbody tr th {\n",
       "        vertical-align: top;\n",
       "    }\n",
       "\n",
       "    .dataframe thead th {\n",
       "        text-align: right;\n",
       "    }\n",
       "</style>\n",
       "<table border=\"1\" class=\"dataframe\">\n",
       "  <thead>\n",
       "    <tr style=\"text-align: right;\">\n",
       "      <th></th>\n",
       "      <th>names</th>\n",
       "      <th>novel_sequences</th>\n",
       "    </tr>\n",
       "  </thead>\n",
       "  <tbody>\n",
       "    <tr>\n",
       "      <th>0</th>\n",
       "      <td>pep1</td>\n",
       "      <td>GLMLMLK</td>\n",
       "    </tr>\n",
       "    <tr>\n",
       "      <th>1</th>\n",
       "      <td>pep2</td>\n",
       "      <td>QRTPLI</td>\n",
       "    </tr>\n",
       "  </tbody>\n",
       "</table>\n",
       "</div>"
      ],
      "text/plain": [
       "  names novel_sequences\n",
       "0  pep1         GLMLMLK\n",
       "1  pep2          QRTPLI"
      ]
     },
     "execution_count": 20,
     "metadata": {},
     "output_type": "execute_result"
    }
   ],
   "source": [
    "peptides = pd.DataFrame({\"names\": [\"pep1\", \"pep2\"],\n",
    "            \"novel_sequences\":[\"GLMLMLK\", \"QRTPLI\"]})\n",
    "peptides"
   ]
  },
  {
   "cell_type": "code",
   "execution_count": 21,
   "id": "a168eade",
   "metadata": {},
   "outputs": [
    {
     "name": "stdout",
     "output_type": "stream",
     "text": [
      "Calculando descripptores de frecuencia de aminoacidos ...\n",
      "Calculando descripptores globales de los peptidos ...\n",
      "Calculando descripptores peptidicos ...\n",
      "Numero de calculos :  316\n",
      "Ventana:1, Modalidad: mean [========================================] 158/158 [100%] in 1.2s (136.58/s) \n",
      "1.1591100692749023\n",
      "Calculando descripptores de Kmers de aa de los peptidos ...\n",
      "Tiempo de calculo:  1.187577247619629\n"
     ]
    },
    {
     "data": {
      "text/html": [
       "<div>\n",
       "<style scoped>\n",
       "    .dataframe tbody tr th:only-of-type {\n",
       "        vertical-align: middle;\n",
       "    }\n",
       "\n",
       "    .dataframe tbody tr th {\n",
       "        vertical-align: top;\n",
       "    }\n",
       "\n",
       "    .dataframe thead th {\n",
       "        text-align: right;\n",
       "    }\n",
       "</style>\n",
       "<table border=\"1\" class=\"dataframe\">\n",
       "  <thead>\n",
       "    <tr style=\"text-align: right;\">\n",
       "      <th></th>\n",
       "      <th>Y</th>\n",
       "      <th>V</th>\n",
       "      <th>W</th>\n",
       "      <th>T</th>\n",
       "      <th>R</th>\n",
       "      <th>S</th>\n",
       "      <th>P</th>\n",
       "      <th>Q</th>\n",
       "      <th>N</th>\n",
       "      <th>L</th>\n",
       "      <th>...</th>\n",
       "      <th>TPGC</th>\n",
       "      <th>IK</th>\n",
       "      <th>IA</th>\n",
       "      <th>IG</th>\n",
       "      <th>YGG</th>\n",
       "      <th>LGK</th>\n",
       "      <th>CSCK</th>\n",
       "      <th>GYGG</th>\n",
       "      <th>LGG</th>\n",
       "      <th>KGA</th>\n",
       "    </tr>\n",
       "  </thead>\n",
       "  <tbody>\n",
       "    <tr>\n",
       "      <th>GLMLMLK</th>\n",
       "      <td>0.0</td>\n",
       "      <td>0.0</td>\n",
       "      <td>0.0</td>\n",
       "      <td>0.0</td>\n",
       "      <td>0.0</td>\n",
       "      <td>0.0</td>\n",
       "      <td>0.0</td>\n",
       "      <td>0.0</td>\n",
       "      <td>0.0</td>\n",
       "      <td>2.0</td>\n",
       "      <td>...</td>\n",
       "      <td>0</td>\n",
       "      <td>0</td>\n",
       "      <td>0</td>\n",
       "      <td>0</td>\n",
       "      <td>0</td>\n",
       "      <td>0</td>\n",
       "      <td>0</td>\n",
       "      <td>0</td>\n",
       "      <td>0</td>\n",
       "      <td>0</td>\n",
       "    </tr>\n",
       "    <tr>\n",
       "      <th>QRTPLI</th>\n",
       "      <td>0.0</td>\n",
       "      <td>0.0</td>\n",
       "      <td>0.0</td>\n",
       "      <td>1.0</td>\n",
       "      <td>0.0</td>\n",
       "      <td>1.0</td>\n",
       "      <td>1.0</td>\n",
       "      <td>1.0</td>\n",
       "      <td>0.0</td>\n",
       "      <td>0.0</td>\n",
       "      <td>...</td>\n",
       "      <td>0</td>\n",
       "      <td>0</td>\n",
       "      <td>0</td>\n",
       "      <td>0</td>\n",
       "      <td>0</td>\n",
       "      <td>0</td>\n",
       "      <td>0</td>\n",
       "      <td>0</td>\n",
       "      <td>0</td>\n",
       "      <td>0</td>\n",
       "    </tr>\n",
       "  </tbody>\n",
       "</table>\n",
       "<p>2 rows × 318 columns</p>\n",
       "</div>"
      ],
      "text/plain": [
       "           Y    V    W    T    R    S    P    Q    N    L  ...  TPGC  IK  IA  \\\n",
       "GLMLMLK  0.0  0.0  0.0  0.0  0.0  0.0  0.0  0.0  0.0  2.0  ...     0   0   0   \n",
       "QRTPLI   0.0  0.0  0.0  1.0  0.0  1.0  1.0  1.0  0.0  0.0  ...     0   0   0   \n",
       "\n",
       "         IG  YGG  LGK  CSCK  GYGG  LGG  KGA  \n",
       "GLMLMLK   0    0    0     0     0    0    0  \n",
       "QRTPLI    0    0    0     0     0    0    0  \n",
       "\n",
       "[2 rows x 318 columns]"
      ]
     },
     "execution_count": 21,
     "metadata": {},
     "output_type": "execute_result"
    }
   ],
   "source": [
    "GenerateDescriptors(peptides)"
   ]
  }
 ],
 "metadata": {
  "kernelspec": {
   "display_name": "Python 3 (ipykernel)",
   "language": "python",
   "name": "python3"
  },
  "language_info": {
   "codemirror_mode": {
    "name": "ipython",
    "version": 3
   },
   "file_extension": ".py",
   "mimetype": "text/x-python",
   "name": "python",
   "nbconvert_exporter": "python",
   "pygments_lexer": "ipython3",
   "version": "3.9.7"
  }
 },
 "nbformat": 4,
 "nbformat_minor": 5
}
